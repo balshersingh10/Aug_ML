{
 "cells": [
  {
   "cell_type": "code",
   "execution_count": null,
   "id": "58f8c294",
   "metadata": {},
   "outputs": [],
   "source": [
    "import pandas as pd\n",
    "from shutil import copyfile\n",
    "\n",
    "df = pd.read_csv (r'./movie_metadata.csv')\n",
    "df = df['genres']\n",
    "\n",
    "data_dir = './200F_VGG16'\n",
    "action_dir = './genres/Action'\n",
    "comedy_dir = './genres/Comedy' \n",
    "drama_dir = './genres/Drama' \n",
    "romance_dir = './genres/Romance' \n",
    "thriller_dir = './genres/Thriller' \n",
    "\n",
    "for i in range(df.shape[0]):\n",
    "    genre = df[i].strip().split('|')\n",
    "    for g in genre:\n",
    "        if(g=='Action'):\n",
    "            copyfile(data_dir,action_dir)\n",
    "        elif(g=='Comedy'):\n",
    "            copyfile(data_dir,comedy_dir)\n",
    "        elif(g=='Drama'):\n",
    "            copyfile(data_dir,drama_dir)\n",
    "        elif(g=='Romance'):\n",
    "            copyfile(data_dir,romance_dir)\n",
    "        elif(g=='Thriller'):\n",
    "            copyfile(data_dir,thriller_dir)"
   ]
  }
 ],
 "metadata": {
  "kernelspec": {
   "display_name": "Python 3",
   "language": "python",
   "name": "python3"
  },
  "language_info": {
   "codemirror_mode": {
    "name": "ipython",
    "version": 3
   },
   "file_extension": ".py",
   "mimetype": "text/x-python",
   "name": "python",
   "nbconvert_exporter": "python",
   "pygments_lexer": "ipython3",
   "version": "3.8.8"
  }
 },
 "nbformat": 4,
 "nbformat_minor": 5
}
