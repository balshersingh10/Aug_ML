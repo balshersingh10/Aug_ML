{
 "cells": [
  {
   "cell_type": "code",
   "execution_count": 1,
   "id": "d08881d7",
   "metadata": {},
   "outputs": [],
   "source": [
    "import umap\n",
    "import hdbscan\n",
    "from sentence_transformers import SentenceTransformer\n",
    "from bertopic import BERTopic\n",
    "import urllib.request\n",
    "from urllib.request import Request, urlopen\n",
    "from bs4 import BeautifulSoup\n",
    "import pandas as pd"
   ]
  },
  {
   "cell_type": "code",
   "execution_count": 2,
   "id": "14cfcf80",
   "metadata": {},
   "outputs": [],
   "source": [
    "df = pd.read_csv(\"./history.csv\")\n",
    "urls = df['url']"
   ]
  },
  {
   "cell_type": "code",
   "execution_count": 5,
   "id": "776080b7",
   "metadata": {},
   "outputs": [
    {
     "name": "stdout",
     "output_type": "stream",
     "text": [
      "Remote end closed connection without response\n",
      "HTTP Error 404: Not Found\n",
      "HTTP Error 404: Not Found\n",
      "HTTP Error 404: Not Found\n",
      "HTTP Error 404: Not Found\n",
      "HTTP Error 404: Not Found\n",
      "HTTP Error 404: Not Found\n",
      "HTTP Error 404: Not Found\n",
      "HTTP Error 404: Not Found\n",
      "HTTP Error 404: Not Found\n",
      "<urlopen error [WinError 2] The system cannot find the file specified: \"C:\\\\Users\\\\balsh\\\\Downloads\\\\Balsher's Resume.pdf\">\n",
      "<urlopen error [WinError 2] The system cannot find the file specified: \"C:\\\\Users\\\\balsh\\\\Downloads\\\\Balsher's Resume.pdf\">\n",
      "HTTP Error 401: Unauthorized\n",
      "HTTP Error 401: Unauthorized\n",
      "Remote end closed connection without response\n",
      "Remote end closed connection without response\n",
      "<urlopen error [WinError 3] The system cannot find the path specified: 'C:\\\\Users\\\\balsh\\\\Desktop\\\\MISC\\\\New folder\\\\Balsher_resume.pdf'>\n",
      "<urlopen error [WinError 2] The system cannot find the file specified: \"C:\\\\Users\\\\balsh\\\\Desktop\\\\MISC\\\\Balsher's Resume.pdf\">\n",
      "<urlopen error [WinError 3] The system cannot find the path specified: 'C:\\\\Users\\\\balsh\\\\Desktop\\\\MISC\\\\Attentive AI\\\\Transcript.pdf'>\n",
      "<urlopen error [WinError 2] The system cannot find the file specified: 'C:\\\\Users\\\\balsh\\\\Downloads\\\\01.jpg'>\n"
     ]
    }
   ],
   "source": [
    "docs = []\n",
    "for url in urls:\n",
    "    try:\n",
    "        req = Request(url, headers={'User-Agent': 'Mozilla/5.0'})\n",
    "        html = urlopen(req).read()\n",
    "        soup = BeautifulSoup(html,'html5lib')\n",
    "        for script in soup([\"script\", \"style\"]):\n",
    "            script.decompose()\n",
    "        text = soup.get_text()\n",
    "        lines = (line.strip() for line in text.splitlines())\n",
    "        chunks = (phrase.strip() for line in lines for phrase in line.split(\"  \"))\n",
    "        text = '\\n'.join(chunk for chunk in chunks if chunk)\n",
    "        docs.append(text)\n",
    "    except Exception as e:\n",
    "        print(e)"
   ]
  },
  {
   "cell_type": "code",
   "execution_count": 4,
   "id": "cd22f1fc",
   "metadata": {
    "scrolled": false
   },
   "outputs": [],
   "source": [
    "# Load sentence transformer model\n",
    "sentence_model = SentenceTransformer(\"paraphrase-MiniLM-L6-v2\")\n",
    "\n",
    "# Define UMAP model to reduce embeddings dimension\n",
    "umap_model = umap.UMAP(n_neighbors=15,\n",
    "                       n_components=10,\n",
    "                       min_dist=0.0,\n",
    "                       metric='cosine',\n",
    "                       low_memory=False,\n",
    "                       random_state = 42)\n",
    "\n",
    "# Define HDBSCAN model to perform documents clustering\n",
    "hdbscan_model = hdbscan.HDBSCAN(min_cluster_size=10,\n",
    "                                min_samples=1,\n",
    "                                metric='euclidean',\n",
    "                                cluster_selection_method='eom',\n",
    "                                prediction_data=True)\n",
    "\n",
    "# Create BERTopic model\n",
    "topic_model = BERTopic(top_n_words=10,\n",
    "                       n_gram_range=(1,2),\n",
    "                       calculate_probabilities=True,\n",
    "                       umap_model= umap_model,\n",
    "                       hdbscan_model=hdbscan_model,\n",
    "                       embedding_model=sentence_model,\n",
    "                       verbose=True)"
   ]
  },
  {
   "cell_type": "code",
   "execution_count": 6,
   "id": "b3363283",
   "metadata": {},
   "outputs": [
    {
     "data": {
      "application/vnd.jupyter.widget-view+json": {
       "model_id": "d979106897f841f8acc2d7887e0a8c30",
       "version_major": 2,
       "version_minor": 0
      },
      "text/plain": [
       "Batches:   0%|          | 0/14 [00:00<?, ?it/s]"
      ]
     },
     "metadata": {},
     "output_type": "display_data"
    },
    {
     "name": "stderr",
     "output_type": "stream",
     "text": [
      "2021-12-29 13:13:57,173 - BERTopic - Transformed documents to Embeddings\n",
      "E:\\LG\\venv\\lib\\site-packages\\numba\\np\\ufunc\\parallel.py:366: NumbaWarning: \u001b[1mThe TBB threading layer requires TBB version 2021 update 1 or later i.e., TBB_INTERFACE_VERSION >= 12010. Found TBB_INTERFACE_VERSION = 11103. The TBB threading layer is disabled.\u001b[0m\n",
      "  warnings.warn(problem)\n",
      "2021-12-29 13:14:06,564 - BERTopic - Reduced dimensionality with UMAP\n",
      "2021-12-29 13:14:06,667 - BERTopic - Clustered UMAP embeddings with HDBSCAN\n"
     ]
    }
   ],
   "source": [
    "# Train model, extract topics and probabilities\n",
    "topics, probabilities = topic_model.fit_transform(docs)"
   ]
  },
  {
   "cell_type": "code",
   "execution_count": null,
   "id": "28182a5c",
   "metadata": {},
   "outputs": [],
   "source": [
    "print(topic_model.get_topics())\n",
    "\n",
    "topic_model.visualize_hierarchy()"
   ]
  }
 ],
 "metadata": {
  "kernelspec": {
   "display_name": "venv",
   "language": "python",
   "name": "venv"
  },
  "language_info": {
   "codemirror_mode": {
    "name": "ipython",
    "version": 3
   },
   "file_extension": ".py",
   "mimetype": "text/x-python",
   "name": "python",
   "nbconvert_exporter": "python",
   "pygments_lexer": "ipython3",
   "version": "3.8.8"
  }
 },
 "nbformat": 4,
 "nbformat_minor": 5
}
